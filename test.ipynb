{
 "cells": [
  {
   "cell_type": "code",
   "execution_count": 1,
   "metadata": {},
   "outputs": [
    {
     "name": "stdout",
     "output_type": "stream",
     "text": [
      "[[ 55 120]\n",
      " [ 65 130]\n",
      " [ 45 119]\n",
      " [ 67 125]\n",
      " [ 90 150]\n",
      " [ 92 170]\n",
      " [ 95 180]\n",
      " [ 80 176]\n",
      " [ 70 150]\n",
      " [ 75 152]]\n"
     ]
    }
   ],
   "source": [
    "import pandas as pd\n",
    "\n",
    "dataset=pd.read_csv('weight-vs-height.csv').values\n",
    "print(dataset)"
   ]
  },
  {
   "cell_type": "code",
   "execution_count": 2,
   "metadata": {},
   "outputs": [],
   "source": [
    "data=dataset[:,0].reshape(-1, 1)\n",
    "target=dataset[:,1].reshape(-1, 1)"
   ]
  },
  {
   "cell_type": "code",
   "execution_count": 3,
   "metadata": {},
   "outputs": [
    {
     "data": {
      "image/png": "[encoded data removed]",
      "text/plain": [
       "<Figure size 432x288 with 1 Axes>"
      ]
     },
     "metadata": {
      "needs_background": "light"
     },
     "output_type": "display_data"
    }
   ],
   "source": [
    "from matplotlib import pyplot as plt\n",
    "\n",
    "plt.scatter(data, target)\n",
    "plt.xlabel('Feature (Weights(kg):x)')\n",
    "plt.ylabel('Label (Height(cm):y)')\n",
    "plt.show()"
   ]
  },
  {
   "cell_type": "code",
   "execution_count": 4,
   "metadata": {},
   "outputs": [],
   "source": [
    "from sklearn.model_selection import train_test_split\n",
    "\n",
    "train_data,test_data,train_target,test_target=train_test_split(data,target,test_size=0.1)"
   ]
  },
  {
   "cell_type": "code",
   "execution_count": 5,
   "metadata": {},
   "outputs": [
    {
     "data": {
      "text/plain": [
       "LinearRegression(copy_X=True, fit_intercept=True, n_jobs=None, normalize=False)"
      ]
     },
     "execution_count": 5,
     "metadata": {},
     "output_type": "execute_result"
    }
   ],
   "source": [
    "from sklearn.linear_model import LinearRegression\n",
    "\n",
    "model=LinearRegression()\n",
    "model.fit(train_data, train_target)"
   ]
  },
  {
   "cell_type": "code",
   "execution_count": 6,
   "metadata": {},
   "outputs": [
    {
     "name": "stdout",
     "output_type": "stream",
     "text": [
      "m [[1.24114201]]\n",
      "c [55.32018971]\n"
     ]
    }
   ],
   "source": [
    "print('m',model.coef_)\n",
    "print('c',model.intercept_)"
   ]
  },
  {
   "cell_type": "code",
   "execution_count": 7,
   "metadata": {},
   "outputs": [],
   "source": [
    "m=model.coef_[0][0]\n",
    "c=model.intercept_[0]"
   ]
  },
  {
   "cell_type": "code",
   "execution_count": 8,
   "metadata": {},
   "outputs": [
    {
     "name": "stdout",
     "output_type": "stream",
     "text": [
      "yb:  [[160.8172603]]\n"
     ]
    }
   ],
   "source": [
    "xb=[[85]]\n",
    "yb=model.predict(xb)\n",
    "print('yb: ', yb)"
   ]
  },
  {
   "cell_type": "code",
   "execution_count": 9,
   "metadata": {},
   "outputs": [],
   "source": [
    "import numpy as np\n",
    "\n",
    "xvals=np.arange(60,100)\n",
    "yvals=m*xvals+c"
   ]
  },
  {
   "cell_type": "code",
   "execution_count": 10,
   "metadata": {},
   "outputs": [
    {
     "data": {
      "image/png": "[encoded data removed]",
      "text/plain": [
       "<Figure size 432x288 with 1 Axes>"
      ]
     },
     "metadata": {
      "needs_background": "light"
     },
     "output_type": "display_data"
    }
   ],
   "source": [
    "plt.scatter(data, target)\n",
    "plt.plot(xvals,yvals,'r',label='Best Fit Line')\n",
    "plt.scatter(xb,yb,c='g')\n",
    "plt.xlabel('Feature (Weights(kg):x)')\n",
    "plt.ylabel('Label (Height(cm):y)')\n",
    "plt.show()"
   ]
  },
  {
   "cell_type": "code",
   "execution_count": 11,
   "metadata": {},
   "outputs": [
    {
     "name": "stdout",
     "output_type": "stream",
     "text": [
      "[[ -9. 102.]\n",
      " [ -8. 112.]\n",
      " [ -7.  72.]\n",
      " [ -6.  46.]\n",
      " [ -5.  70.]\n",
      " [ -4.  57.]\n",
      " [ -3.  28.]\n",
      " [ -2.  12.]\n",
      " [ -1.  36.]\n",
      " [  0.  21.]\n",
      " [  1.   9.]\n",
      " [  2.   7.]\n",
      " [  3.  37.]\n",
      " [  4.  30.]\n",
      " [  5.  40.]\n",
      " [  6.  44.]\n",
      " [  7.  97.]\n",
      " [  8.  76.]\n",
      " [  9.  90.]]\n"
     ]
    }
   ],
   "source": [
    "dataset=pd.read_csv('none-linear-dataset.csv').values\n",
    "print(dataset)"
   ]
  },
  {
   "cell_type": "code",
   "execution_count": 12,
   "metadata": {},
   "outputs": [],
   "source": [
    "data=dataset[:,0].reshape(-1, 1)\n",
    "target=dataset[:,1].reshape(-1, 1)"
   ]
  },
  {
   "cell_type": "code",
   "execution_count": 13,
   "metadata": {},
   "outputs": [
    {
     "data": {
      "image/png": "[encoded data removed]",
      "text/plain": [
       "<Figure size 432x288 with 1 Axes>"
      ]
     },
     "metadata": {
      "needs_background": "light"
     },
     "output_type": "display_data"
    }
   ],
   "source": [
    "plt.scatter(data, target)\n",
    "plt.xlabel('Feature x)')\n",
    "plt.ylabel('Label y)')\n",
    "plt.show()"
   ]
  },
  {
   "cell_type": "code",
   "execution_count": 14,
   "metadata": {},
   "outputs": [],
   "source": [
    "train_data,test_data,train_target,test_target=train_test_split(data,target,test_size=0.1)"
   ]
  },
  {
   "cell_type": "code",
   "execution_count": 15,
   "metadata": {},
   "outputs": [
    {
     "data": {
      "text/plain": [
       "LinearRegression(copy_X=True, fit_intercept=True, n_jobs=None, normalize=False)"
      ]
     },
     "execution_count": 15,
     "metadata": {},
     "output_type": "execute_result"
    }
   ],
   "source": [
    "model=LinearRegression()\n",
    "model.fit(train_data, train_target)"
   ]
  },
  {
   "cell_type": "code",
   "execution_count": 16,
   "metadata": {},
   "outputs": [
    {
     "name": "stdout",
     "output_type": "stream",
     "text": [
      "m [[0.1500353]]\n",
      "c [50.94704636]\n"
     ]
    }
   ],
   "source": [
    "print('m',model.coef_)\n",
    "print('c',model.intercept_)"
   ]
  },
  {
   "cell_type": "code",
   "execution_count": 17,
   "metadata": {},
   "outputs": [
    {
     "name": "stdout",
     "output_type": "stream",
     "text": [
      "0.15003530242409968 50.94704636385032\n"
     ]
    }
   ],
   "source": [
    "m=model.coef_[0][0]\n",
    "c=model.intercept_[0]\n",
    "print(m, c)"
   ]
  },
  {
   "cell_type": "code",
   "execution_count": 18,
   "metadata": {},
   "outputs": [],
   "source": [
    "xvals=np.arange(-10,10)\n",
    "yvals=m*xvals+c"
   ]
  },
  {
   "cell_type": "code",
   "execution_count": 19,
   "metadata": {},
   "outputs": [
    {
     "data": {
      "image/png": "[encoded data removed]",
      "text/plain": [
       "<Figure size 432x288 with 1 Axes>"
      ]
     },
     "metadata": {
      "needs_background": "light"
     },
     "output_type": "display_data"
    }
   ],
   "source": [
    "plt.scatter(data, target)\n",
    "plt.plot(xvals,yvals,'r',label='Best Fit Line')\n",
    "plt.scatter(xb,yb,c='g')\n",
    "plt.xlabel('Feature (Weights(kg):x)')\n",
    "plt.ylabel('Label (Height(cm):y)')\n",
    "plt.show()"
   ]
  },
  {
   "cell_type": "code",
   "execution_count": 20,
   "metadata": {},
   "outputs": [
    {
     "name": "stdout",
     "output_type": "stream",
     "text": [
      "x1:  [[-9.]\n",
      " [-8.]\n",
      " [-7.]\n",
      " [-6.]\n",
      " [-5.]\n",
      " [-4.]\n",
      " [-3.]\n",
      " [-2.]\n",
      " [-1.]\n",
      " [ 0.]\n",
      " [ 1.]\n",
      " [ 2.]\n",
      " [ 3.]\n",
      " [ 4.]\n",
      " [ 5.]\n",
      " [ 6.]\n",
      " [ 7.]\n",
      " [ 8.]\n",
      " [ 9.]]\n",
      "x2:  [[81.]\n",
      " [64.]\n",
      " [49.]\n",
      " [36.]\n",
      " [25.]\n",
      " [16.]\n",
      " [ 9.]\n",
      " [ 4.]\n",
      " [ 1.]\n",
      " [ 0.]\n",
      " [ 1.]\n",
      " [ 4.]\n",
      " [ 9.]\n",
      " [16.]\n",
      " [25.]\n",
      " [36.]\n",
      " [49.]\n",
      " [64.]\n",
      " [81.]]\n"
     ]
    }
   ],
   "source": [
    "x1=dataset[:,0].reshape(-1, 1)\n",
    "print('x1: ',x1)\n",
    "x2=np.power(x1,2)\n",
    "print('x2: ',x2)"
   ]
  },
  {
   "cell_type": "code",
   "execution_count": 21,
   "metadata": {},
   "outputs": [
    {
     "name": "stdout",
     "output_type": "stream",
     "text": [
      "[[-9. 81.]\n",
      " [-8. 64.]\n",
      " [-7. 49.]\n",
      " [-6. 36.]\n",
      " [-5. 25.]\n",
      " [-4. 16.]\n",
      " [-3.  9.]\n",
      " [-2.  4.]\n",
      " [-1.  1.]\n",
      " [ 0.  0.]\n",
      " [ 1.  1.]\n",
      " [ 2.  4.]\n",
      " [ 3.  9.]\n",
      " [ 4. 16.]\n",
      " [ 5. 25.]\n",
      " [ 6. 36.]\n",
      " [ 7. 49.]\n",
      " [ 8. 64.]\n",
      " [ 9. 81.]]\n"
     ]
    }
   ],
   "source": [
    "data_new=np.append(x1, x2, axis=1)\n",
    "print(data_new)"
   ]
  },
  {
   "cell_type": "code",
   "execution_count": 22,
   "metadata": {},
   "outputs": [],
   "source": [
    "train_data,test_data,train_target,test_target=train_test_split(data_new,target,test_size=0.1)"
   ]
  },
  {
   "cell_type": "code",
   "execution_count": 23,
   "metadata": {},
   "outputs": [
    {
     "data": {
      "text/plain": [
       "LinearRegression(copy_X=True, fit_intercept=True, n_jobs=None, normalize=False)"
      ]
     },
     "execution_count": 23,
     "metadata": {},
     "output_type": "execute_result"
    }
   ],
   "source": [
    "model=LinearRegression()\n",
    "model.fit(train_data, train_target)"
   ]
  },
  {
   "cell_type": "code",
   "execution_count": 24,
   "metadata": {},
   "outputs": [
    {
     "name": "stdout",
     "output_type": "stream",
     "text": [
      "coef: [[-0.90671412  1.02762484]]\n",
      "c [22.07851885]\n"
     ]
    }
   ],
   "source": [
    "print('coef:',model.coef_)\n",
    "print('c',model.intercept_)"
   ]
  },
  {
   "cell_type": "code",
   "execution_count": 25,
   "metadata": {},
   "outputs": [],
   "source": [
    "a1=model.coef_[0][0]\n",
    "a2=model.coef_[0][1]\n",
    "a0=model.intercept_[0]"
   ]
  },
  {
   "cell_type": "code",
   "execution_count": 26,
   "metadata": {},
   "outputs": [],
   "source": [
    "xvals=np.arange(-10,10)\n",
    "yvals=a1*xvals+a2*np.power(xvals, 2)+a0"
   ]
  },
  {
   "cell_type": "code",
   "execution_count": 27,
   "metadata": {},
   "outputs": [
    {
     "data": {
      "image/png": "[encoded data removed]",
      "text/plain": [
       "<Figure size 432x288 with 1 Axes>"
      ]
     },
     "metadata": {
      "needs_background": "light"
     },
     "output_type": "display_data"
    }
   ],
   "source": [
    "plt.scatter(data, target)\n",
    "plt.plot(xvals,yvals,'r',label='Best Fit Line')\n",
    "plt.scatter(xb,yb,c='g')\n",
    "plt.xlabel('Feature - x)')\n",
    "plt.ylabel('Label - y)')\n",
    "plt.legend()\n",
    "plt.show()"
   ]
  },
  {
   "cell_type": "code",
   "execution_count": 28,
   "metadata": {},
   "outputs": [
    {
     "name": "stdout",
     "output_type": "stream",
     "text": [
      "[[ -9. 102.]\n",
      " [ -8. 112.]\n",
      " [ -7.  72.]\n",
      " [ -6.  46.]\n",
      " [ -5.  70.]\n",
      " [ -4.  57.]\n",
      " [ -3.  28.]\n",
      " [ -2.  12.]\n",
      " [ -1.  36.]\n",
      " [  0.  21.]\n",
      " [  1.   9.]\n",
      " [  2.   7.]\n",
      " [  3.  37.]\n",
      " [  4.  30.]\n",
      " [  5.  40.]\n",
      " [  6.  44.]\n",
      " [  7.  97.]\n",
      " [  8.  76.]\n",
      " [  9.  90.]]\n"
     ]
    }
   ],
   "source": [
    "dataset=pd.read_csv('none-linear-dataset.csv').values\n",
    "print(dataset)"
   ]
  },
  {
   "cell_type": "code",
   "execution_count": 29,
   "metadata": {},
   "outputs": [
    {
     "name": "stdout",
     "output_type": "stream",
     "text": [
      "data [[-9.]\n",
      " [-8.]\n",
      " [-7.]\n",
      " [-6.]\n",
      " [-5.]\n",
      " [-4.]\n",
      " [-3.]\n",
      " [-2.]\n",
      " [-1.]\n",
      " [ 0.]\n",
      " [ 1.]\n",
      " [ 2.]\n",
      " [ 3.]\n",
      " [ 4.]\n",
      " [ 5.]\n",
      " [ 6.]\n",
      " [ 7.]\n",
      " [ 8.]\n",
      " [ 9.]]\n",
      "target [[102.]\n",
      " [112.]\n",
      " [ 72.]\n",
      " [ 46.]\n",
      " [ 70.]\n",
      " [ 57.]\n",
      " [ 28.]\n",
      " [ 12.]\n",
      " [ 36.]\n",
      " [ 21.]\n",
      " [  9.]\n",
      " [  7.]\n",
      " [ 37.]\n",
      " [ 30.]\n",
      " [ 40.]\n",
      " [ 44.]\n",
      " [ 97.]\n",
      " [ 76.]\n",
      " [ 90.]]\n"
     ]
    }
   ],
   "source": [
    "data=dataset[:,0].reshape(-1, 1)\n",
    "target=dataset[:,1].reshape(-1, 1)\n",
    "print('data', data)\n",
    "print('target', target)"
   ]
  },
  {
   "cell_type": "code",
   "execution_count": 30,
   "metadata": {},
   "outputs": [
    {
     "name": "stdout",
     "output_type": "stream",
     "text": [
      "data new:  [[-9. 81.]\n",
      " [-8. 64.]\n",
      " [-7. 49.]\n",
      " [-6. 36.]\n",
      " [-5. 25.]\n",
      " [-4. 16.]\n",
      " [-3.  9.]\n",
      " [-2.  4.]\n",
      " [-1.  1.]\n",
      " [ 0.  0.]\n",
      " [ 1.  1.]\n",
      " [ 2.  4.]\n",
      " [ 3.  9.]\n",
      " [ 4. 16.]\n",
      " [ 5. 25.]\n",
      " [ 6. 36.]\n",
      " [ 7. 49.]\n",
      " [ 8. 64.]\n",
      " [ 9. 81.]]\n"
     ]
    }
   ],
   "source": [
    "from sklearn.preprocessing import PolynomialFeatures\n",
    "\n",
    "poly=PolynomialFeatures(degree=2, include_bias=False)\n",
    "data_new=poly.fit_transform(data)\n",
    "\n",
    "print('data new: ',data_new)"
   ]
  },
  {
   "cell_type": "code",
   "execution_count": 31,
   "metadata": {},
   "outputs": [
    {
     "name": "stdout",
     "output_type": "stream",
     "text": [
      "m:  [[-0.90671412  1.02762484]]\n",
      "c:  [22.07851885]\n"
     ]
    }
   ],
   "source": [
    "print('m: ', model.coef_)\n",
    "print('c: ', model.intercept_)"
   ]
  },
  {
   "cell_type": "code",
   "execution_count": null,
   "metadata": {},
   "outputs": [],
   "source": []
  },
  {
   "cell_type": "code",
   "execution_count": null,
   "metadata": {},
   "outputs": [],
   "source": []
  }
 ],
 "metadata": {
  "kernelspec": {
   "display_name": "Python 3",
   "language": "python",
   "name": "python3"
  },
  "language_info": {
   "codemirror_mode": {
    "name": "ipython",
    "version": 3
   },
   "file_extension": ".py",
   "mimetype": "text/x-python",
   "name": "python",
   "nbconvert_exporter": "python",
   "pygments_lexer": "ipython3",
   "version": "3.7.6"
  }
 },
 "nbformat": 4,
 "nbformat_minor": 4
}
